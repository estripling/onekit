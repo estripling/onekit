{
 "cells": [
  {
   "cell_type": "markdown",
   "id": "776be51c-1670-46a5-bddb-caef4d041cc7",
   "metadata": {},
   "source": [
    "# Differential Evolution"
   ]
  },
  {
   "cell_type": "markdown",
   "id": "77c8586b-8235-4354-a99a-1e059c8023b5",
   "metadata": {},
   "source": [
    "## Setup"
   ]
  },
  {
   "cell_type": "code",
   "execution_count": 1,
   "id": "789a4dbe-f5a9-4590-a8d0-806f50810e3e",
   "metadata": {},
   "outputs": [],
   "source": [
    "import numpy as np\n",
    "import toolz\n",
    "from tqdm import tqdm\n",
    "\n",
    "from onekit import dekit as dek\n",
    "from onekit import numpykit as npk\n",
    "from onekit import optfunckit as ofk\n",
    "from onekit import pythonkit as pk\n",
    "from onekit.dekit import (\n",
    "    Bounds,\n",
    "    BoundsHandler,\n",
    "    ObjectiveFunction,\n",
    ")"
   ]
  },
  {
   "cell_type": "code",
   "execution_count": 2,
   "id": "7e9719e6-ba8c-4107-b101-32b9ed1e741a",
   "metadata": {},
   "outputs": [],
   "source": [
    "def monitor_evolution(de):\n",
    "    for generation in (\n",
    "        pbar := tqdm(\n",
    "            de,\n",
    "            desc=f\"{n_dim}D {func.__name__}\",\n",
    "            bar_format=\"{desc} | {elapsed}{postfix}\",\n",
    "        )\n",
    "    ):\n",
    "        msg = pk.concat_strings(\n",
    "            \", \",\n",
    "            f\"n_gen={generation.generation_count:_}\",\n",
    "            f\"n_pop={generation.population.size:_}\",\n",
    "            f\"n_fev={generation.evaluation_count:_}\",\n",
    "            f\"n_best={generation.best_so_far_count:_}\",\n",
    "            f\"worst={generation.worst.fx:_g}\",\n",
    "            f\"best={generation.best.fx:_g}\",\n",
    "        )\n",
    "        pbar.set_postfix_str(msg)\n",
    "\n",
    "\n",
    "def print_solution(de, name: str | None = None):\n",
    "    if name:\n",
    "        print(pk.headline(f\"{name}: {de.message}\"))\n",
    "    else:\n",
    "        print(pk.headline(de.message))\n",
    "\n",
    "    solution = de.best\n",
    "    x_best = denorm(solution.x)\n",
    "    fx_best = solution.fx\n",
    "    print(\n",
    "        pk.concat_strings(\n",
    "            \", \",\n",
    "            f\"n_gen={de.generation_count:_}\",\n",
    "            f\"n_fev={de.evaluation_count:_}\",\n",
    "            f\"n_best={de.best_so_far_count:_}\",\n",
    "            f\"x_best={x_best}\",\n",
    "            f\"fx_best={fx_best:_g}\",\n",
    "        )\n",
    "    )"
   ]
  },
  {
   "cell_type": "markdown",
   "id": "ea88c4d7-74ca-4a8e-b27c-b8ec8dc98561",
   "metadata": {},
   "source": [
    "## Problem Definition"
   ]
  },
  {
   "cell_type": "code",
   "execution_count": 3,
   "id": "16308040-7d8c-4450-9066-66802f333fff",
   "metadata": {},
   "outputs": [],
   "source": [
    "func = ofk.schwefel\n",
    "bounds: Bounds = [(-500, 500)] * 4\n",
    "bnh: BoundsHandler = dek.check_bounds(bounds)\n",
    "n_dim = bnh.n_dim\n",
    "\n",
    "\n",
    "def denorm(x: np.ndarray) -> np.ndarray:\n",
    "    return dek.denormalize(x, x_min=bnh.x_min, x_max=bnh.x_max)\n",
    "\n",
    "\n",
    "def problem(x: np.ndarray) -> ObjectiveFunction:\n",
    "    return toolz.pipe(x, denorm, func)"
   ]
  },
  {
   "cell_type": "code",
   "execution_count": 4,
   "id": "a2d5c1a9-a66c-47cd-808e-959819fb7e1b",
   "metadata": {},
   "outputs": [
    {
     "data": {
      "text/plain": [
       "953.5749658744329"
      ]
     },
     "execution_count": 4,
     "metadata": {},
     "output_type": "execute_result"
    }
   ],
   "source": [
    "problem(x=np.array([0] * n_dim))"
   ]
  },
  {
   "cell_type": "markdown",
   "id": "4b4d00dc-820f-40ac-8f6a-4169e28c4710",
   "metadata": {},
   "source": [
    "## Classic DE/rand/1/bin"
   ]
  },
  {
   "cell_type": "code",
   "execution_count": 5,
   "id": "c2cc1996-d3ef-489e-b304-755fb9d32ab4",
   "metadata": {},
   "outputs": [
    {
     "name": "stdout",
     "output_type": "stream",
     "text": [
      "n_pop=69 - max_best_so_far=30\n"
     ]
    },
    {
     "name": "stderr",
     "output_type": "stream",
     "text": [
      "4D schwefel | 00:00, n_gen=213, n_pop=69, n_fev=14_766, n_best=1, worst=5.33358e-05, best=5.09772e-05 \n"
     ]
    }
   ],
   "source": [
    "rng = npk.check_random_state(seed=101)\n",
    "max_best_so_far = 30\n",
    "n_pop = int(25 * np.log(n_dim) * np.sqrt(n_dim))\n",
    "print(f\"{n_pop=} - {max_best_so_far=}\")\n",
    "\n",
    "de_rand_1_bin = dek.DeV1(\n",
    "    func=problem,\n",
    "    init_strategy=dek.Initialization.random__standard_uniform(n_pop, n_dim, rng),\n",
    "    mutation_strategy=dek.Mutation.rand_1(rng),\n",
    "    bound_repair_strategy=dek.BoundRepair.clip__standard_uniform(),\n",
    "    crossover_strategy=dek.Crossover.binomial(rng),\n",
    "    replacement_strategy=dek.Replacement.smaller_is_better(),\n",
    "    termination_strategy=dek.Termination.has_met_any_basic_strategy(\n",
    "        max_best_so_far=max_best_so_far,\n",
    "    ),\n",
    "    f_strategy=dek.Parameter.dither(0.5, 1.0, rng),\n",
    "    cr_strategy=dek.Parameter.constant(0.9),\n",
    ")\n",
    "\n",
    "monitor_evolution(de_rand_1_bin)"
   ]
  },
  {
   "cell_type": "markdown",
   "id": "028f239c-557b-45c2-9215-637359a0f09f",
   "metadata": {},
   "source": [
    "## SHADE 1.1"
   ]
  },
  {
   "cell_type": "code",
   "execution_count": 6,
   "id": "1d8b68db-8864-45c7-b5fa-95acf9c7e079",
   "metadata": {},
   "outputs": [
    {
     "name": "stdout",
     "output_type": "stream",
     "text": [
      "n_pop=69 - max_best_so_far=30\n"
     ]
    },
    {
     "name": "stderr",
     "output_type": "stream",
     "text": [
      "4D schwefel | 00:02, n_gen=149, n_pop=69, n_fev=10_350, n_best=4, worst=5.31081e-05, best=5.09465e-05\n"
     ]
    }
   ],
   "source": [
    "rng = npk.check_random_state(seed=101)\n",
    "max_best_so_far = 30\n",
    "n_pop = int(25 * np.log(n_dim) * np.sqrt(n_dim))\n",
    "print(f\"{n_pop=} - {max_best_so_far=}\")\n",
    "\n",
    "shade11 = dek.DeV4(\n",
    "    func=problem,\n",
    "    init_strategy=dek.Initialization.random__standard_uniform(n_pop, n_dim, rng),\n",
    "    mutation_strategy=dek.Mutation.current_to_pbest_1(rng),\n",
    "    bound_repair_strategy=dek.BoundRepair.midway(),\n",
    "    crossover_strategy=dek.Crossover.binomial(rng),\n",
    "    replacement_strategy=dek.Replacement.smaller_is_better(),\n",
    "    termination_strategy=dek.Termination.has_met_any_basic_strategy(\n",
    "        max_best_so_far=max_best_so_far,\n",
    "    ),\n",
    "    memory_size=5,\n",
    "    p_max=0.2,\n",
    "    seed=rng,\n",
    ")\n",
    "\n",
    "monitor_evolution(shade11)"
   ]
  },
  {
   "cell_type": "markdown",
   "id": "28545402-d702-4b7c-acaf-5e0e0da61bcc",
   "metadata": {},
   "source": [
    "## LSHADE"
   ]
  },
  {
   "cell_type": "code",
   "execution_count": 7,
   "id": "c9e6eaf1-3e65-44e8-8760-2d695bdba478",
   "metadata": {},
   "outputs": [
    {
     "name": "stdout",
     "output_type": "stream",
     "text": [
      "n_pop=69 - max_fev=40069 - max_best_so_far=30\n"
     ]
    },
    {
     "name": "stderr",
     "output_type": "stream",
     "text": [
      "4D schwefel | 00:01, n_gen=131, n_pop=56, n_fev=8_205, n_best=1, worst=5.29025e-05, best=5.09641e-05\n"
     ]
    }
   ],
   "source": [
    "rng = npk.check_random_state(seed=101)\n",
    "max_fev = 10_000 * n_dim + n_pop\n",
    "max_best_so_far = 30\n",
    "n_pop = int(25 * np.log(n_dim) * np.sqrt(n_dim))\n",
    "print(f\"{n_pop=} - {max_fev=} - {max_best_so_far=}\")\n",
    "\n",
    "lshade = dek.DeV5(\n",
    "    func=problem,\n",
    "    init_strategy=dek.Initialization.random__standard_uniform(n_pop, n_dim, rng),\n",
    "    mutation_strategy=dek.Mutation.current_to_pbest_1(rng),\n",
    "    bound_repair_strategy=dek.BoundRepair.midway(),\n",
    "    crossover_strategy=dek.Crossover.binomial(rng),\n",
    "    replacement_strategy=dek.Replacement.smaller_is_better(),\n",
    "    population_size_adaption_strategy=dek.PopulationSizeAdaption.reduce_population_size_linearly(\n",
    "        max_fev,\n",
    "        n_pop_init=n_pop,\n",
    "        n_pop_min=4,\n",
    "    ),\n",
    "    termination_strategy=dek.Termination.has_met_any_basic_strategy(\n",
    "        max_best_so_far=max_best_so_far,\n",
    "    ),\n",
    "    memory_size=5,\n",
    "    p_max=0.2,\n",
    "    seed=rng,\n",
    ")\n",
    "\n",
    "monitor_evolution(lshade)"
   ]
  },
  {
   "cell_type": "code",
   "execution_count": 8,
   "id": "a451a089-8ac2-4dcd-a970-9f17502e924e",
   "metadata": {},
   "outputs": [
    {
     "name": "stdout",
     "output_type": "stream",
     "text": [
      "-------------------------- DE/rand/1/bin: fx values converged --------------------------\n",
      "n_gen=213, n_fev=14_766, n_best=1, x_best=[420.96813646 420.9690453  420.96857486 420.96894532], fx_best=5.09772e-05\n",
      "------------------------------ SHADE: fx values converged ------------------------------\n",
      "n_gen=149, n_fev=10_350, n_best=4, x_best=[420.96856705 420.96905463 420.96841054 420.96852866], fx_best=5.09465e-05\n",
      "----------------------------- L-SHADE: fx values converged -----------------------------\n",
      "n_gen=131, n_fev=8_205, n_best=1, x_best=[420.96898702 420.96914362 420.96894806 420.96915893], fx_best=5.09641e-05\n"
     ]
    }
   ],
   "source": [
    "for name, de in {\n",
    "    \"DE/rand/1/bin\": de_rand_1_bin,\n",
    "    \"SHADE\": shade11,\n",
    "    \"L-SHADE\": lshade,\n",
    "}.items():\n",
    "    print_solution(de, name)"
   ]
  }
 ],
 "metadata": {
  "kernelspec": {
   "display_name": "Python 3 (ipykernel)",
   "language": "python",
   "name": "python3"
  },
  "language_info": {
   "codemirror_mode": {
    "name": "ipython",
    "version": 3
   },
   "file_extension": ".py",
   "mimetype": "text/x-python",
   "name": "python",
   "nbconvert_exporter": "python",
   "pygments_lexer": "ipython3",
   "version": "3.11.12"
  }
 },
 "nbformat": 4,
 "nbformat_minor": 5
}
